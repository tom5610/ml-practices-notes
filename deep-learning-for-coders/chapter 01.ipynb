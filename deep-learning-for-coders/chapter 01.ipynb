{
 "cells": [
  {
   "cell_type": "markdown",
   "metadata": {},
   "source": [
    "# Chapter 01 Your Deep Learning Journey\n",
    "\n",
    "## Objective\n",
    "\n",
    "To enhance my learning practices with capturing notes, solving problems and answering questions in the book. "
   ]
  },
  {
   "cell_type": "markdown",
   "metadata": {},
   "source": [
    "## Questionnaire\n",
    "\n",
    "1. Do you need these for deep learning?\n",
    " * Lots of math T/F\n",
    " * Lots of data T/F\n",
    " * Lots of expensive computers T/F\n",
    " * A PhD T/F\n",
    "\n",
    "  ***Answer***: We don't need lots of math/data/expensive computers/A PhD for using deep learning.\n",
    "\n",
    "  \\[book\\]\n",
    "  * High school math is sufficient\n",
    "  * We've seen record-breaking results with <50 items of data\n",
    "  * You can get what you need for state-of-the-art work for free\n",
    "  * A PhD is not needed as you learn and practice deep learning to solve real problems."
   ]
  },
  {
   "cell_type": "markdown",
   "metadata": {},
   "source": [
    "2. Name five areas where deep learning is now the best tool in the world.\n",
    "\n",
    "  ***Answer***: \n",
    "  * Natural Language Processing (such as classification, summation, translation, etc.)\n",
    "  * Medical / bioscience (protein discovery)\n",
    "  * Computer Vision (such as image classification, image detection and synmatic segmentation, etc.)\n",
    "  * Time series forecasting (with global model)\n",
    "  * robotics\n",
    "\n",
    "  \\[book\\]\n",
    "  * Natural language processing (NLP) (answering questions; speech recognition; summarizing documents; classifying documents; finding names, dates, etc. in documents\n",
    "  * Computer Vision (CV) Satellite and drone imagery interpretation, face recognition, image captioning, reading traffic signs, locating pedestrains and vehicles in autonomous vehicles\n",
    "  * Medicine (finding anomalies in radiology images, including CT, MBR and X-ray images; counting fitures in pathology slides; measure features in ultrasounds, diagnosing diabetic retinopathy\n",
    "  * Biology (folding proteins; classifying proteins; many genomics tasks, such as tumornormal sequencing and classifying clinically actionable genetic mutations; cell classification; analyzing protein/protein interactions.\n",
    "  * Image generation (color images, increasing image resolution, removing noise from images, coverting images to art in the style of famous artists\n",
    "  * Recommendation systems (web search, production recommendation, home page layout)\n",
    "  * Playing games\n",
    "  * Robotics\n"
   ]
  },
  {
   "cell_type": "markdown",
   "metadata": {},
   "source": [
    "3. What was the name of the first device that was based on the principle of the artificial neuron?\n",
    "\n",
    "  ***Answer***:\n",
    "\n",
    "  \\[book\\]\n",
    "  * The Mark I Perceptron\n",
    "  * Rosenblatt wrote about this work: \" we are now about to witness the birth of such a machine - a machine capable of perceiving, recognizing and identifying its surroundings without any human training or control' The perceptron was built and was able to successfully recognize simple shapes"
   ]
  },
  {
   "cell_type": "markdown",
   "metadata": {},
   "source": [
    "4. Based on the book of the same name, what are the requirements for parallel distributed processing (PDP)?\n",
    "\n",
    "  ***Answer***:\n",
    "\n",
    "  \\[book\\]\n",
    "  * A set of processing units\n",
    "  * A state of activation\n",
    "  * An output function for each units\n",
    "  * A pattern of connectivity among units\n",
    "  * A propagation rule for propagating patterns of activities through the network of connectivities\n",
    "  * An activition rule for combining the inputs impinging on a unit with the current state of that unit to produce an output for the unit\n",
    "  * A learning rule whereby patterns of connectivity are modified by experience\n",
    "  * An environment within which the system must operate\n"
   ]
  },
  {
   "cell_type": "markdown",
   "metadata": {},
   "source": [
    "5. What were the two theoretical misunderstandings that held back the field of neural networks?\n",
    "\n",
    "  ***Answer***:\n",
    "\n",
    "  \\[book\\]\n",
    "  * A single layer of these devices was unable to learn some simple but critical mathematical functions (such as XOR); in the same book, they also showed that using multiple layers of the devices would allow these limitations to be addressed; unfortunately, only the first of these insights was widely recognized. As a result, the global academic community nearly entirely gave up on neural networks for the next two decades.\n",
    "  * In theory, adding just one extra layer of neurons was enough to allow any mathematical function to be approximated with these neural networks, but in practice such networks were often too big and too slow to be useful. "
   ]
  },
  {
   "cell_type": "markdown",
   "metadata": {},
   "source": [
    "6. What is a GPU?\n",
    "\n",
    "  ***Answer***:\n",
    "  * GPU standards Graphics Processing Unit, which is good at parallel computing, especially \n",
    "\n",
    "  \\[book\\]\n",
    "  * also known as a graphics card. a special kind of processor in your computer that can handle thousands of single tasks at the same time, especially designed for displaying 3D environments on a computer for playing games. These same basic tasks are very similar to what neural networks do, such that GPUs can run neural networks hundreds of times fast than regular CPUs. All om"
   ]
  },
  {
   "cell_type": "markdown",
   "metadata": {},
   "source": [
    "7. Open a notebook and execute a cell containing: 1+1. What happens\n",
    "\n",
    "  ***Answer***:\n",
    "  * It will print '2' as output; the 1+1 expression will be taken to execute and 2 as output.\n",
    "\n",
    "  \\[book\\]"
   ]
  },
  {
   "cell_type": "code",
   "execution_count": 1,
   "metadata": {},
   "outputs": [
    {
     "data": {
      "text/plain": [
       "2"
      ]
     },
     "execution_count": 1,
     "metadata": {},
     "output_type": "execute_result"
    }
   ],
   "source": [
    "1+1"
   ]
  },
  {
   "cell_type": "markdown",
   "metadata": {},
   "source": [
    "8. Follow through each cell of the stripped version of the notebook for this chapter. Before executing each cell, guess what will happen.\n",
    "\n",
    "  ***Answer***:\n",
    "  * they are model training code for CV, NLP, Tabular and recommendations problems. \n",
    "  * I can see the training progress and output of the inference result, which I can guess what it output.\n",
    "\n",
    "  \\[book\\]"
   ]
  },
  {
   "cell_type": "markdown",
   "metadata": {},
   "source": [
    "9. Complete the Jupyter Notebook online appendix (https://oreil.ly/9uPZe).\n",
    "\n",
    "  ***Answer***:\n",
    "  * I am familiar with the appendix content. Will run through it.\n",
    "\n",
    "  \\[book\\]"
   ]
  },
  {
   "cell_type": "markdown",
   "metadata": {},
   "source": [
    "10. Why is it hard to use a traditional computer program to recognize images in a photo?\n",
    "\n",
    "  ***Answer***:\n",
    "  * Images data are unstructured and it's very hard to define specific rules to identify features from image(s). \n",
    "\n",
    "  \\[book\\]\n",
    "  * It is very tricky to recognize objects in a photo; we don't know what are the steps to take to recognize an object in a picture; it all happens in our brain without us being consciously aware of it?"
   ]
  },
  {
   "cell_type": "markdown",
   "metadata": {},
   "source": [
    "11. What did Samuel mean by \"weight assignment\"?\n",
    "  \n",
    "  ***Answer***:\n",
    "  * \"weight assignment\" is a process to optimize the coefficients / parameters for the neural network approximite function.\n",
    "\n",
    "  \\[book\\]\n",
    "  * Weights are just variables, and a weight assignment is a particular choice of values for those variables. The program's inputs are values that it processes in order to product its results - for instance, taking image pixels as inputs, and returning the classification \"dog\" as a result. The program's weight assignments are other values that define how the program will operate.\n"
   ]
  },
  {
   "cell_type": "markdown",
   "metadata": {},
   "source": [
    "12. What term do we normally use in deep learning for what Samuel called \"weights\"?\n",
    "  \n",
    "  ***Answer***:\n",
    "  * model parameters\n",
    "\n",
    "  \\[book\\]\n"
   ]
  },
  {
   "cell_type": "markdown",
   "metadata": {},
   "source": [
    "13. Draw a picture that summarizes Samuel's view of a machine learning model.\n",
    "  \n",
    "  ***Answer***:\n",
    "  ```\n",
    "    inputs  -- |       |  \n",
    "               | model | -- inference             -- |      |\n",
    "    weights -- |       |                             | loss |  --+ \n",
    "       ^                    label / target value  -- |      |    |\n",
    "       |                                                         |\n",
    "       ----------------------------------------------------------+\n",
    "   ```\n",
    "\n",
    "  \\[book\\]\n"
   ]
  },
  {
   "cell_type": "markdown",
   "metadata": {},
   "source": [
    "14. Why is it hard to understand why a deep learning model makes a particular prediction?\n",
    "  \n",
    "  ***Answer***:\n",
    "  * deep learning model is built by multiple-layer NN, the weights being trained to meet the model performance forms a complex NN, making it hard for human being to interpret.\n",
    "\n",
    "  \\[book\\]\n",
    "  * It's not at all obvious what the model might look like for an image recognition program, or for understanding  text, or for many other interesting problems we might imagine. "
   ]
  },
  {
   "cell_type": "markdown",
   "metadata": {},
   "source": [
    "15. What is the name of the theorem that shows that a neural network can solve any mathematical problem to any level of accuracy?\n",
    "  \n",
    "  ***Answer***:\n",
    "  * universal approximation theorem. \n",
    "\n",
    "  \\[book\\]\n",
    "  * A mathematical proof called the universal approximation theorem shows that this function can solve any problem to any level of accuracy, in theory. The fact that neural networks are so flexible means that, in practice, they are often a suitable kind of model, and you can focus your effort on the process of training them - that is, of finding good weight assignments. \n"
   ]
  },
  {
   "cell_type": "markdown",
   "metadata": {},
   "source": [
    "16. What do you need in order to train a model?\n",
    "  \n",
    "  ***Answer***:\n",
    "  * We need labelled data while using supervised ML; \n",
    "  * During model training with DL, we need to define the NN architecture; then, during model training process, we will need a optimization process on the weight assignment so that the model performance may improve during training process. \n",
    "\n",
    "  \\[book\\]\n",
    "  * data to train a model\n",
    "  * a model can learn to operate on only the patterns seen in the input data used to train it.\n",
    "  * this learning approach creates only predictions, not recommended actions\n",
    "  * It's not enough to just have examples of input data; we need labels for that data too (e.g., pictures of dogs and cats aren't enough to train a model; we need a label for each one, sayiong which ones are dogs and which cats. \n"
   ]
  },
  {
   "cell_type": "markdown",
   "metadata": {},
   "source": [
    "17. How could a feedback loop impact the rollout of a predictive policy model?\n",
    "  \n",
    "  ***Answer***:\n",
    "  * The purpose of predictive policy model may be for predict crimes, but the way to use the prediction result may result in bias on the data and cause more predicted policying on the similar data.\n",
    "    * The predictive policing model may base on learning the data representation of historical data, and provides policing prediction; \n",
    "    * however, if the prediction result will be accumulated and being used as model training data, it will end up model policying prediction on the major of the historical data.\n",
    "  \n",
    "  \\[book\\]\n",
    "  * a model interacts with environment can create feedback loops:\n",
    "    * a predictive policing model is created based on where arrests have been made in the past, In practice, this is not actually predicting crime, but rather predicting arrests, and is therefore partially simply reflecting biases in the existing policing process.\n",
    "    * Law enforcement officers then might use that model to decide where to focus their policing activity, resulting in increased arrests in those areas.\n",
    "    * data on these additional arrests would then be fed back in to retrain future versions of the model. \n",
    "    \n",
    "  * this is a positive feedback loop: the more the model is used, the more biased the data becomes, making the model even more biased, and so forth.\n"
   ]
  },
  {
   "cell_type": "markdown",
   "metadata": {},
   "source": [
    "18. Do we always have to use 224*224-pixel images with the cat recognition model?\n",
    "  \n",
    "  ***Answer***:\n",
    "  * Not necessarily, but using 224*224-pixel images are for simplicity. (given pictures may have different shapes.)\n",
    "\n",
    "  \\[book\\]\n",
    "  * this is the standard size for historical reasons (old pretrained models require this sie exactly), but you can pass pretty much anything. If you increase the size, you'll often get a model with better results (since it will be able to focus on more details), but at the price of speed and memory consumption; the opposite is true if you decrease the size.\n"
   ]
  },
  {
   "cell_type": "markdown",
   "metadata": {},
   "source": [
    "19. What is the difference between classification and regression?\n",
    "  \n",
    "  ***Answer***:\n",
    "  * classification is used to identify discrete values or categorities. In a nutshell, it's to classify categories. \n",
    "  * regression is used to predict continuous numbers.\n",
    "\n",
    "  \\[book\\]\n",
    "  * a classification model is one that attempts to predict a class, or category. that is, it's predicting from a number of discrete possibilities, such as 'dog' or 'cat'. \n",
    "  * a regression model is one that attempts to predict one or more numeric quantities, such as temperature or a location. \n"
   ]
  },
  {
   "cell_type": "markdown",
   "metadata": {},
   "source": [
    "20. What is a validation set? What is a test set? Why do we need them?\n",
    "  \n",
    "  ***Answer***:\n",
    "  * validation set and test set are being used to verify the model performance with unseen data during model training, and overall, the purpose of using them is to avoid overfitting.\n",
    "  * validation set is mainly being used during model training process, we don't use training data to evaluate model performance, instead, validation set (development set) are being used.\n",
    "  * test set is mainly being used after training completed.  \n",
    "  \n",
    "  \\[book\\]\n",
    "  * during model training, only measure model performance with validation set. when the accuracy of your model start to get worse, this is called overfitting. \n"
   ]
  },
  {
   "cell_type": "markdown",
   "metadata": {},
   "source": [
    "21. What will fastai do if you don't provide a validation set?\n",
    "\n",
    "  ***Answer***\n",
    "  \n",
    "  \\[book\\]"
   ]
  },
  {
   "cell_type": "markdown",
   "metadata": {},
   "source": [
    "22. Can we always use a random sample for a validation set? Why or why not?\n",
    "\n",
    "  ***Answer***\n",
    "  \n",
    "  \\[book\\]"
   ]
  },
  {
   "cell_type": "markdown",
   "metadata": {},
   "source": [
    "23. What is overfitting? Provide an example.\n",
    "\n",
    "  ***Answer***\n",
    "  \n",
    "  \\[book\\]"
   ]
  },
  {
   "cell_type": "markdown",
   "metadata": {},
   "source": [
    "24. What is a metric? How does it differ from loss?\n",
    "\n",
    "  ***Answer***\n",
    "  \n",
    "  \\[book\\]"
   ]
  },
  {
   "cell_type": "markdown",
   "metadata": {},
   "source": [
    "25. How can pretrain models help?\n",
    "\n",
    "  ***Answer***\n",
    "  \n",
    "  \\[book\\]"
   ]
  },
  {
   "cell_type": "markdown",
   "metadata": {},
   "source": [
    "25. \n",
    "\n",
    "  ***Answer***\n",
    "  \n",
    "  \\[book\\]"
   ]
  },
  {
   "cell_type": "markdown",
   "metadata": {},
   "source": [
    "## Notes\n",
    "\n",
    "* We strongly believe that the focus in learning needs to be on understanding the underlying techniques and how to apply them in practice, and how to quickly build expertise in new tools and techniques as they are released."
   ]
  }
 ],
 "metadata": {
  "instance_type": "ml.t3.medium",
  "kernelspec": {
   "display_name": "Python 3 (Data Science)",
   "language": "python",
   "name": "python3__SAGEMAKER_INTERNAL__arn:aws:sagemaker:ap-southeast-2:452832661640:image/datascience-1.0"
  },
  "language_info": {
   "codemirror_mode": {
    "name": "ipython",
    "version": 3
   },
   "file_extension": ".py",
   "mimetype": "text/x-python",
   "name": "python",
   "nbconvert_exporter": "python",
   "pygments_lexer": "ipython3",
   "version": "3.7.10"
  }
 },
 "nbformat": 4,
 "nbformat_minor": 4
}
