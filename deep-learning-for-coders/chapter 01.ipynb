{
 "cells": [
  {
   "cell_type": "markdown",
   "metadata": {},
   "source": [
    "# Chapter 01 Your Deep Learning Journey\n",
    "\n",
    "## Objective\n",
    "\n",
    "To enhance my learning practices with capturing notes, solving problems and answering questions in the book. "
   ]
  },
  {
   "cell_type": "markdown",
   "metadata": {},
   "source": [
    "## Questionnaire\n",
    "\n",
    "1. Do you need these for deep learning?\n",
    " * Lots of math T/F\n",
    " * Lots of data T/F\n",
    " * Lots of expensive computers T/F\n",
    " * A PhD T/F\n",
    "\n",
    "  ***Answer***: We don't need lots of math/data/expensive computers/A PhD for using deep learning.\n",
    "\n",
    "  \\[book\\]\n",
    "  * High school math is sufficient\n",
    "  * We've seen record-breaking results with <50 items of data\n",
    "  * You can get what you need for state-of-the-art work for free\n",
    "  * A PhD is not needed as you learn and practice deep learning to solve real problems."
   ]
  },
  {
   "cell_type": "markdown",
   "metadata": {},
   "source": [
    "2. Name five areas where deep learning is now the best tool in the world.\n",
    "\n",
    "  ***Answer***: \n",
    "  * Natural Language Processing (such as classification, summation, translation, etc.)\n",
    "  * Medical / bioscience (protein discovery)\n",
    "  * Computer Vision (such as image classification, image detection and synmatic segmentation, etc.)\n",
    "  * Time series forecasting (with global model)\n",
    "  * robotics\n",
    "\n",
    "  \\[book\\]\n",
    "  * Natural language processing (NLP) (answering questions; speech recognition; summarizing documents; classifying documents; finding names, dates, etc. in documents\n",
    "  * Computer Vision (CV) Satellite and drone imagery interpretation, face recognition, image captioning, reading traffic signs, locating pedestrains and vehicles in autonomous vehicles\n",
    "  * Medicine (finding anomalies in radiology images, including CT, MBR and X-ray images; counting fitures in pathology slides; measure features in ultrasounds, diagnosing diabetic retinopathy\n",
    "  * Biology (folding proteins; classifying proteins; many genomics tasks, such as tumornormal sequencing and classifying clinically actionable genetic mutations; cell classification; analyzing protein/protein interactions.\n",
    "  * Image generation (color images, increasing image resolution, removing noise from images, coverting images to art in the style of famous artists\n",
    "  * Recommendation systems (web search, production recommendation, home page layout)\n",
    "  * Playing games\n",
    "  * Robotics\n"
   ]
  },
  {
   "cell_type": "markdown",
   "metadata": {},
   "source": [
    "3. What was the name of the first device that was based on the principle of the artificial neuron?\n",
    "\n",
    "  ***Answer***:\n",
    "\n",
    "  \\[book\\]\n",
    "  * The Mark I Perceptron\n",
    "  * Rosenblatt wrote about this work: \" we are now about to witness the birth of such a machine - a machine capable of perceiving, recognizing and identifying its surroundings without any human training or control' The perceptron was built and was able to successfully recognize simple shapes"
   ]
  },
  {
   "cell_type": "markdown",
   "metadata": {},
   "source": [
    "4. Based on the book of the same name, what are the requirements for parallel distributed processing (PDP)?\n",
    "\n",
    "  ***Answer***:\n",
    "\n",
    "  \\[book\\]\n",
    "  * A set of processing units\n",
    "  * A state of activation\n",
    "  * An output function for each units\n",
    "  * A pattern of connectivity among units\n",
    "  * A propagation rule for propagating patterns of activities through the network of connectivities\n",
    "  * An activition rule for combining the inputs impinging on a unit with the current state of that unit to produce an output for the unit\n",
    "  * A learning rule whereby patterns of connectivity are modified by experience\n",
    "  * An environment within which the system must operate\n"
   ]
  },
  {
   "cell_type": "markdown",
   "metadata": {},
   "source": [
    "5. What were the two theoretical misunderstandings that held back the field of neural networks?\n",
    "\n",
    "  ***Answer***:\n",
    "\n",
    "  \\[book\\]\n",
    "  * A single layer of these devices was unable to learn some simple but critical mathematical functions (such as XOR); in the same book, they also showed that using multiple layers of the devices would allow these limitations to be addressed; unfortunately, only the first of these insights was widely recognized. As a result, the global academic community nearly entirely gave up on neural networks for the next two decades.\n",
    "  * In theory, adding just one extra layer of neurons was enough to allow any mathematical function to be approximated with these neural networks, but in practice such networks were often too big and too slow to be useful. "
   ]
  },
  {
   "cell_type": "markdown",
   "metadata": {},
   "source": [
    "6. What is a GPU?\n",
    "\n",
    "  ***Answer***:\n",
    "  * GPU standards Graphics Processing Unit, which is good at parallel computing, especially \n",
    "\n",
    "  \\[book\\]\n",
    "  * also known as a graphics card. a special kind of processor in your computer that can handle thousands of single tasks at the same time, especially designed for displaying 3D environments on a computer for playing games. These same basic tasks are very similar to what neural networks do, such that GPUs can run neural networks hundreds of times fast than regular CPUs. All om"
   ]
  },
  {
   "cell_type": "markdown",
   "metadata": {},
   "source": [
    "7. Open a notebook and execute a cell containing: 1+1. What happens\n",
    "\n",
    "  ***Answer***:\n",
    "  * It will print '2' as output; the 1+1 expression will be taken to execute and 2 as output.\n",
    "\n",
    "  \\[book\\]"
   ]
  },
  {
   "cell_type": "code",
   "execution_count": 1,
   "metadata": {},
   "outputs": [
    {
     "data": {
      "text/plain": [
       "2"
      ]
     },
     "execution_count": 1,
     "metadata": {},
     "output_type": "execute_result"
    }
   ],
   "source": [
    "1+1"
   ]
  },
  {
   "cell_type": "markdown",
   "metadata": {},
   "source": [
    "8. Follow through each cell of the stripped version of the notebook for this chapter. Before executing each cell, guess what will happen.\n",
    "\n",
    "  ***Answer***:\n",
    "  * they are model training code for CV, NLP, Tabular and recommendations problems. \n",
    "  * I can see the training progress and output of the inference result, which I can guess what it output.\n",
    "\n",
    "  \\[book\\]"
   ]
  },
  {
   "cell_type": "markdown",
   "metadata": {},
   "source": [
    "9. Complete the Jupyter Notebook online appendix (https://oreil.ly/9uPZe).\n",
    "\n",
    "  ***Answer***:\n",
    "  * I am familiar with the appendix content. Will run through it.\n",
    "\n",
    "  \\[book\\]"
   ]
  },
  {
   "cell_type": "markdown",
   "metadata": {},
   "source": [
    "10. Why is it hard to use a traditional computer program to recognize images in a photo?\n",
    "\n",
    "  ***Answer***:\n",
    "  * Images data are unstructured and it's very hard to define specific rules to identify features from image(s). \n",
    "\n",
    "\n",
    "  \\[book\\]"
   ]
  },
  {
   "cell_type": "markdown",
   "metadata": {},
   "source": [
    "## Notes\n",
    "\n",
    "* We strongly believe that the focus in learning needs to be on understanding the underlying techniques and how to apply them in practice, and how to quickly build expertise in new tools and techniques as they are released."
   ]
  },
  {
   "cell_type": "code",
   "execution_count": null,
   "metadata": {},
   "outputs": [],
   "source": []
  }
 ],
 "metadata": {
  "instance_type": "ml.t3.medium",
  "kernelspec": {
   "display_name": "Python 3 (Data Science)",
   "language": "python",
   "name": "python3__SAGEMAKER_INTERNAL__arn:aws:sagemaker:ap-southeast-2:452832661640:image/datascience-1.0"
  },
  "language_info": {
   "codemirror_mode": {
    "name": "ipython",
    "version": 3
   },
   "file_extension": ".py",
   "mimetype": "text/x-python",
   "name": "python",
   "nbconvert_exporter": "python",
   "pygments_lexer": "ipython3",
   "version": "3.7.10"
  }
 },
 "nbformat": 4,
 "nbformat_minor": 4
}
