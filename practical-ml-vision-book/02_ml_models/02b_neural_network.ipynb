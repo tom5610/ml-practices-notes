{
  "nbformat": 4,
  "nbformat_minor": 0,
  "metadata": {
    "colab": {
      "name": "Untitled5.ipynb",
      "provenance": [],
      "authorship_tag": "ABX9TyOvStE5ITOshWQIvDAQYaHt",
      "include_colab_link": true
    },
    "kernelspec": {
      "name": "python3",
      "display_name": "Python 3"
    },
    "language_info": {
      "name": "python"
    },
    "accelerator": "GPU"
  },
  "cells": [
    {
      "cell_type": "markdown",
      "metadata": {
        "id": "view-in-github",
        "colab_type": "text"
      },
      "source": [
        "<a href=\"https://colab.research.google.com/github/tom5610/ml-practices-using-books/blob/main/practical-ml-vision-book/02_ml_models/02b_neural_network.ipynb\" target=\"_parent\"><img src=\"https://colab.research.google.com/assets/colab-badge.svg\" alt=\"Open In Colab\"/></a>"
      ]
    },
    {
      "cell_type": "code",
      "metadata": {
        "id": "Ki7iBGShK6Ic",
        "colab": {
          "base_uri": "https://localhost:8080/",
          "height": 59
        },
        "outputId": "d53bcf65-e4b0-4c30-c14e-db975be932bd"
      },
      "source": [
        "from IPython.display import Markdown as md\n",
        "\n",
        "_nb_loc = '02_ml_models/02b_neural_network.ipynb'\n",
        "_nb_title = \"Flowers Image Classification using a neural network\"\n",
        "\n",
        "_nb_safeloc = _nb_loc.replace('/', '%2F')\n",
        "\n",
        "md(\"\"\"\n",
        "<table class=\"tfo-notebook-buttons\" align=\"left\">\n",
        "  <td>\n",
        "    <a target=\"_blank\" href=\"https://console.cloud.google.com/ai-platform/notebooks/deploy-notebook?name={1}&url=https%3A%2F%2Fgithub.com%2FGoogleCloudPlatform%2Fpractical-ml-vision-book%2Fblob%2Fmaster%2F{2}&download_url=https%3A%2F%2Fgithub.com%2FGoogleCloudPlatform%2Fpractical-ml-vision-book%2Fraw%2Fmaster%2F{2}\">\n",
        "    <img src=\"https://raw.githubusercontent.com/GoogleCloudPlatform/practical-ml-vision-book/master/logo-cloud.png\"/> Run in AI Platform Notebook</a>\n",
        "  </td>\n",
        "  </td>\n",
        "  <td>\n",
        "    <a target=\"_blank\" href=\"https://colab.research.google.com/github/GoogleCloudPlatform/practical-ml-vision-book/blob/master/{0}\">\n",
        "    <img src=\"https://www.tensorflow.org/images/colab_logo_32px.png\" />Run in Google Colab</a>\n",
        "  </td>\n",
        "  <td>\n",
        "    <a target=\"_blank\" href=\"https://github.com/GoogleCloudPlatform/practical-ml-vision-book/blob/master/{0}\">\n",
        "    <img src=\"https://www.tensorflow.org/images/GitHub-Mark-32px.png\" />View source on GitHub</a>\n",
        "  </td>\n",
        "  <td>\n",
        "    <a href=\"https://raw.githubusercontent.com/GoogleCloudPlatform/practical-ml-vision-book/master/{0}\">\n",
        "    <img src=\"https://www.tensorflow.org/images/download_logo_32px.png\" />Download notebook</a>\n",
        "  </td>\n",
        "</table>\n",
        "\"\"\".format(_nb_loc, _nb_title, _nb_safeloc))"
      ],
      "execution_count": 1,
      "outputs": [
        {
          "output_type": "execute_result",
          "data": {
            "text/markdown": "\n<table class=\"tfo-notebook-buttons\" align=\"left\">\n  <td>\n    <a target=\"_blank\" href=\"https://console.cloud.google.com/ai-platform/notebooks/deploy-notebook?name=Flowers Image Classification using a neural network&url=https%3A%2F%2Fgithub.com%2FGoogleCloudPlatform%2Fpractical-ml-vision-book%2Fblob%2Fmaster%2F02_ml_models%2F02b_neural_network.ipynb&download_url=https%3A%2F%2Fgithub.com%2FGoogleCloudPlatform%2Fpractical-ml-vision-book%2Fraw%2Fmaster%2F02_ml_models%2F02b_neural_network.ipynb\">\n    <img src=\"https://raw.githubusercontent.com/GoogleCloudPlatform/practical-ml-vision-book/master/logo-cloud.png\"/> Run in AI Platform Notebook</a>\n  </td>\n  </td>\n  <td>\n    <a target=\"_blank\" href=\"https://colab.research.google.com/github/GoogleCloudPlatform/practical-ml-vision-book/blob/master/02_ml_models/02b_neural_network.ipynb\">\n    <img src=\"https://www.tensorflow.org/images/colab_logo_32px.png\" />Run in Google Colab</a>\n  </td>\n  <td>\n    <a target=\"_blank\" href=\"https://github.com/GoogleCloudPlatform/practical-ml-vision-book/blob/master/02_ml_models/02b_neural_network.ipynb\">\n    <img src=\"https://www.tensorflow.org/images/GitHub-Mark-32px.png\" />View source on GitHub</a>\n  </td>\n  <td>\n    <a href=\"https://raw.githubusercontent.com/GoogleCloudPlatform/practical-ml-vision-book/master/02_ml_models/02b_neural_network.ipynb\">\n    <img src=\"https://www.tensorflow.org/images/download_logo_32px.png\" />Download notebook</a>\n  </td>\n</table>\n",
            "text/plain": [
              "<IPython.core.display.Markdown object>"
            ]
          },
          "metadata": {},
          "execution_count": 1
        }
      ]
    },
    {
      "cell_type": "markdown",
      "metadata": {
        "id": "Vcl77iAFMKzW"
      },
      "source": [
        "# Flowers Image Classification using a neural network\n",
        "\n",
        "In this notebook, we show how to build a neural network to classify the tf-flowers dataset.\n",
        "\n",
        "Much of teh data exploration was done in the companion notebook 02a_machine_perception.ipynb \n",
        "\n",
        "## Enable GPU and set up helper functions\n",
        "\n",
        "This notebook and pretty much every other notebook in this repository will run faster if you are using a GPU. \n",
        "\n",
        "Next, to verify connectivity to GPU with tensorflow:"
      ]
    },
    {
      "cell_type": "code",
      "metadata": {
        "colab": {
          "base_uri": "https://localhost:8080/"
        },
        "id": "8aA3nltUMKZb",
        "outputId": "ebd3af28-bd0e-42da-aba8-793eb703a563"
      },
      "source": [
        "import tensorflow as tf \n",
        "\n",
        "print(tf.version.VERSION)\n",
        "\n",
        "device_name = tf.test.gpu_device_name()\n",
        "if device_name != '/device:GPU:0':\n",
        "    raise System('GPU device not found')\n",
        "\n",
        "print('Found GPU at: {}'.format(device_name))"
      ],
      "execution_count": 1,
      "outputs": [
        {
          "output_type": "stream",
          "name": "stdout",
          "text": [
            "2.7.0\n",
            "Found GPU at: /device:GPU:0\n"
          ]
        }
      ]
    },
    {
      "cell_type": "code",
      "metadata": {
        "id": "t4QvqieFMBKF"
      },
      "source": [
        "# Helper functions\n",
        "\n",
        "def training_plot(metrics, history):\n",
        "    f, ax = plt.subplots(1, len(metrics), figsize=(5 * len(metrics), 5))\n",
        "    for idx, metric in enumerate(metrics):\n",
        "        ax[idx].plot(history.history[metric], ls = 'dashed')\n",
        "        ax[idx].set_xlabel('Epochs')\n",
        "        ax[idx].set_ylabel(metric)\n",
        "        ax[idx].plot(history.history['val_' + metric])\n",
        "        ax[idx].legend([metric, 'val_' + metric])\n",
        "\n",
        "\n",
        "# call model.predict() on a few images in the evaluation dataset\n",
        "def plot_predictions(filename):\n",
        "    f, ax = plt.subplots(3, 5, figsize = (25, 15))\n",
        "    dataset = (tf.data.TextLineDataset(filename).map(decode_csv))\n",
        "    for idx, (img, label) in enumerate(dataset.take(15)):\n",
        "        ax[idx // 5, idx %5].imshow((img.numpy()))\n",
        "        batch_image = tf.reshape(img, [1, IMG_HEIGHT, IMG_WIDTH, IMG_CHANNELS])\n",
        "        batch_pred = model.predict(batch_image)\n",
        "        pred = batch_pred[0]\n",
        "        label = CLASS_NAMES[labe.numpy()]\n",
        "        pred_label_index = tf.math.argmax(pred).numpy()\n",
        "        pred_label = CLASS_NAMES[pred_label_index]\n",
        "        prob = pred[pred_label_index]\n",
        "        ax[idx // 5, idx % 5].set_title('{}: {} ({:.4f})'.format(label, pred_label, prob))\n",
        "\n",
        "def show_trained_weights(model):\n",
        "    # CLASS_NAMES is ['daisy', 'dandelion', 'roses', 'sunflowers', 'tulips']\n",
        "    LAYER = 1 # Layer 0 flattens the image, layer = 1 is the first dense layer\n",
        "    WEIGHT_TYPE = 0 # 0 for weight, 1 for bias\n",
        "\n",
        "    f, ax = plt.subplots(1, 5, figsize(15, 15))\n",
        "    for flower in range(len(CLASS_NAMES)):\n",
        "        weights = model.layer[LAYER].get_weights()[WEIGHT_TYPE][:, flower]\n",
        "        min_wt = tf.math.reduce_min(weights).numpy()\n",
        "        max_wt = tf.math.reduce_max(weights).numpy()\n",
        "        flower_name = CLASS_NAMES[flower]\n",
        "        print('Scaling weights for {} in {} to {}'.format(flower_name, min_wt, max_wt))\n",
        "        weights = (weights - min_wt) / (max_wt  - min_wt)\n",
        "        ax[flower].imshow(weights.reshape(IMG_HEIGHT, IMG_WIDTH, 3))\n",
        "        ax[flower].set_title(flower_name)"
      ],
      "execution_count": 2,
      "outputs": []
    },
    {
      "cell_type": "code",
      "metadata": {
        "id": "jOfgF0wFR_2h"
      },
      "source": [
        ""
      ],
      "execution_count": null,
      "outputs": []
    }
  ]
}